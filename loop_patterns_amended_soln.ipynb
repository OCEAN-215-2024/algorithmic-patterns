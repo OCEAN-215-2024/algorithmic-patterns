{
 "cells": [
  {
   "cell_type": "markdown",
   "id": "3dd64bf8-ed8c-4c63-a5fe-83838ae6fe79",
   "metadata": {},
   "source": [
    "# Algorithm patterns \n",
    "\n",
    "## And their implementation using loops"
   ]
  },
  {
   "cell_type": "code",
   "execution_count": 1,
   "id": "65f6b05a-208d-4b82-86af-8d1c762e1e0b",
   "metadata": {},
   "outputs": [],
   "source": [
    "# import some modules that we'll be using throughout\n",
    "import numpy as np"
   ]
  },
  {
   "cell_type": "markdown",
   "id": "aeb5e8e6-811d-4177-87d5-51ef7ef5756a",
   "metadata": {},
   "source": [
    "## 1. Mapping"
   ]
  },
  {
   "cell_type": "markdown",
   "id": "59b456ba-63d3-4ec5-9a04-0b0d0a67f429",
   "metadata": {},
   "source": [
    "**Conceptual task**: Create a new collection by applying a function (mapping) to each element of the original collection"
   ]
  },
  {
   "cell_type": "markdown",
   "id": "d5100ad6-73fe-44ca-b313-b8afe919b804",
   "metadata": {},
   "source": [
    "**Implementation:** Initialize an empty list. Going through each element of the collection, applying the function and appending the result to the list"
   ]
  },
  {
   "cell_type": "markdown",
   "id": "f6a8edf9-a00a-448b-b91d-ff736bf9ad92",
   "metadata": {},
   "source": [
    "**Example**: Given a list of integers, obtain the corresponding list of square"
   ]
  },
  {
   "cell_type": "code",
   "execution_count": 2,
   "id": "e8a8f7c9-8b08-49cc-866b-893cec5aae2e",
   "metadata": {},
   "outputs": [
    {
     "name": "stdout",
     "output_type": "stream",
     "text": [
      "list of squares = [1, 9, 25, 49, 81]\n"
     ]
    }
   ],
   "source": [
    "# set up test data\n",
    "data = [1, 3, 5, 7, 9]\n",
    "\n",
    "# algorithmic pattern\n",
    "squared = [] # initialize output container\n",
    "for x in data:\n",
    "    y = x ** 2 # apply function on element\n",
    "    squared.append(y) # append the result\n",
    "\n",
    "# print out the result\n",
    "print(\"list of squares =\", squared)"
   ]
  },
  {
   "cell_type": "markdown",
   "id": "f4c5c96b-bb3f-4658-b375-c07cf6651e15",
   "metadata": {},
   "source": [
    "**Shortcut #1**: List comprehesion often provide a more succinct way to do mapping"
   ]
  },
  {
   "cell_type": "code",
   "execution_count": 3,
   "id": "c515ddb8-f4c2-4de9-8aa9-240faaf7f6bb",
   "metadata": {},
   "outputs": [
    {
     "name": "stdout",
     "output_type": "stream",
     "text": [
      "list of squares = [1, 9, 25, 49, 81]\n"
     ]
    }
   ],
   "source": [
    "squared2 = [x**2 for x in data]\n",
    "print(\"list of squares =\", squared2)"
   ]
  },
  {
   "cell_type": "markdown",
   "id": "2acc4657-0511-488e-9742-a93af4d2edc5",
   "metadata": {},
   "source": [
    "**Shortcut #2**: Most numpy arithmetic and functions are mapping by default"
   ]
  },
  {
   "cell_type": "code",
   "execution_count": 4,
   "id": "c2b4268d-588b-40d8-b69a-e2760513b048",
   "metadata": {},
   "outputs": [
    {
     "name": "stdout",
     "output_type": "stream",
     "text": [
      "array of squares = [ 1  9 25 49 81]\n"
     ]
    }
   ],
   "source": [
    "squared3 = np.array(data) ** 2\n",
    "print(\"array of squares =\", squared3)"
   ]
  },
  {
   "cell_type": "markdown",
   "id": "4f6b74d9-0fa6-45ce-9f03-7cb08bd68a43",
   "metadata": {},
   "source": [
    "**Now you try:** Given the following list of (x, y) coordinates of points, find their corresponding distance from the origin (_Bonus_: make 1 implementation using for loop, and another using numpy functions)"
   ]
  },
  {
   "cell_type": "code",
   "execution_count": 5,
   "id": "ea9cbda3-b441-4079-a6eb-4e6bfc910083",
   "metadata": {
    "tags": []
   },
   "outputs": [],
   "source": [
    "# set up a list of (x, y) coordinates\n",
    "coords = [\n",
    "    [7, 11],\n",
    "    [4, 8],\n",
    "    [-2, 9],\n",
    "    [3, -3],\n",
    "    [0, 5]\n",
    "]\n",
    "\n",
    "# algorithmic pattern\n",
    "\n",
    "# print out the result"
   ]
  },
  {
   "cell_type": "code",
   "execution_count": 6,
   "id": "d932bb6d-6f99-44a6-9641-0bfe4e9ac389",
   "metadata": {},
   "outputs": [
    {
     "name": "stdout",
     "output_type": "stream",
     "text": [
      "Corresponding distances: [13.038404810405298, 8.94427190999916, 9.219544457292887, 4.242640687119285, 5.0]\n"
     ]
    }
   ],
   "source": [
    "# possible solution #1 (for loop)\n",
    "distances = []\n",
    "for val in coords:\n",
    "    dist = (val[0]**2 + val[1]**2)**0.5\n",
    "    distances.append(dist)\n",
    "\n",
    "print(\"Corresponding distances:\", distances)"
   ]
  },
  {
   "cell_type": "code",
   "execution_count": 7,
   "id": "e94c7b06-8199-4bcf-895c-d0f9dec68ab6",
   "metadata": {},
   "outputs": [
    {
     "name": "stdout",
     "output_type": "stream",
     "text": [
      "Corresponding distances: [13.03840481  8.94427191  9.21954446  4.24264069  5.        ]\n"
     ]
    }
   ],
   "source": [
    "# possible solution #2 (numpy)\n",
    "coords_np = np.array(coords)\n",
    "sq_distances_np = np.sum(coords_np ** 2, axis=1)\n",
    "distances_np = np.sqrt(sq_distances_np)\n",
    "print(\"Corresponding distances:\", distances_np)"
   ]
  },
  {
   "cell_type": "markdown",
   "id": "8f07a4f2-d657-47f6-8c3e-365a640fe588",
   "metadata": {},
   "source": [
    "## 2. Filter"
   ]
  },
  {
   "cell_type": "markdown",
   "id": "69e85e09-6e17-45a9-acda-2c56c585d575",
   "metadata": {},
   "source": [
    "**Conceptual task**: Create a new collection by including only elements of the original collection that satisfy certain condition"
   ]
  },
  {
   "cell_type": "markdown",
   "id": "f89a2898-9dd1-44aa-8e3c-2d607ae37291",
   "metadata": {},
   "source": [
    "**Implementation:** Initialize an empty list. Going through each element of the collection, appending it only if the condition checks out"
   ]
  },
  {
   "cell_type": "markdown",
   "id": "dfb7adb2-3a9a-49bc-b259-04ae314e372e",
   "metadata": {},
   "source": [
    "**Example**: Given a list of floats, filter _out_ any entries that are negative"
   ]
  },
  {
   "cell_type": "code",
   "execution_count": 8,
   "id": "5fcc1df2-9bed-4c58-bfdb-64e538125de9",
   "metadata": {},
   "outputs": [
    {
     "name": "stdout",
     "output_type": "stream",
     "text": [
      "list of non-negative entries = [1, 8, 2, 1, 5]\n"
     ]
    }
   ],
   "source": [
    "# set up test data\n",
    "data = [1, -5, 8, 2, -3, 1, 5, -2]\n",
    "\n",
    "# algorithmic pattern\n",
    "nonnegative = [] # initialize output container\n",
    "for x in data:\n",
    "    if x >= 0: # check condition\n",
    "        nonnegative.append(x) # append if checks out\n",
    "\n",
    "# print out the result\n",
    "print(\"list of non-negative entries =\", nonnegative)"
   ]
  },
  {
   "cell_type": "markdown",
   "id": "3bd9875e-48c8-4225-a28e-8736b940e7f2",
   "metadata": {},
   "source": [
    "**Shortcut**: For numpy array, filtering can be done by indexing on results from `np.nonzero()` (the preferred equivalent to `np.where()`; here non-zero means \"True\" and 0 is \"False\")"
   ]
  },
  {
   "cell_type": "code",
   "execution_count": 9,
   "id": "6187c1ca-99a3-40ba-8af0-9319c0d2acde",
   "metadata": {},
   "outputs": [
    {
     "data": {
      "text/plain": [
       "array([1, 8, 2, 1, 5])"
      ]
     },
     "execution_count": 9,
     "metadata": {},
     "output_type": "execute_result"
    }
   ],
   "source": [
    "data_np = np.array(data)\n",
    "data_np[data_np >= 0]"
   ]
  },
  {
   "cell_type": "markdown",
   "id": "f8231f80-706a-4bcd-8ea4-c0f5b533c2c3",
   "metadata": {},
   "source": [
    "**Now you try:** Given the following records of name-pronoun pairs, select all persons who are gender non-binary (for simplicity, treat any pronouns that are not \"he/him\" or \"she/her\" as non-binary)"
   ]
  },
  {
   "cell_type": "code",
   "execution_count": 10,
   "id": "dd6f186d-a861-4d66-aa36-49e691067e34",
   "metadata": {},
   "outputs": [],
   "source": [
    "# set up a list of names and their pronouns\n",
    "records = [\n",
    "    [\"Chris\", \"they/them\"],\n",
    "    [\"Robin\", \"she/her\"],\n",
    "    [\"Alex\", \"he/him\"],\n",
    "    [\"Avery\", \"ze/zim\"],\n",
    "    [\"Taylor\", \"she/her\"]\n",
    "]\n",
    "\n",
    "# algorithmic pattern\n",
    "\n",
    "# print out the result"
   ]
  },
  {
   "cell_type": "code",
   "execution_count": 11,
   "id": "475e6c84-6081-42a9-b4ee-2d9ab3cc0f73",
   "metadata": {},
   "outputs": [
    {
     "name": "stdout",
     "output_type": "stream",
     "text": [
      "Persons who are non-binary: [['Chris', 'they/them'], ['Avery', 'ze/zim']]\n"
     ]
    }
   ],
   "source": [
    "# possible solution:\n",
    "nonbinary = []\n",
    "for person in records:\n",
    "    if person[1] != \"he/him\" and person[1] != \"she/her\":\n",
    "        nonbinary.append(person)\n",
    "\n",
    "print(\"Persons who are non-binary:\", nonbinary)"
   ]
  },
  {
   "cell_type": "markdown",
   "id": "918f770a-2614-404a-a07b-edf450e664d5",
   "metadata": {
    "tags": []
   },
   "source": [
    "## 3. Counting"
   ]
  },
  {
   "cell_type": "markdown",
   "id": "4708ae0f-eff1-4290-adc5-9a4992ebdfcc",
   "metadata": {},
   "source": [
    "**Conceptual task**: Count the number of items in a collection for which a certain condition is met"
   ]
  },
  {
   "cell_type": "markdown",
   "id": "5508f3e3-e857-478e-b07d-b91a841f6857",
   "metadata": {},
   "source": [
    "**Implementation:** Initialize a counter at 0. Keep checking item and increment the counter when condition is met."
   ]
  },
  {
   "cell_type": "markdown",
   "id": "19f7bdfb-0d68-405f-808e-039a0778891f",
   "metadata": {},
   "source": [
    "**Example**: Given a list of floats, count the number of negative entries."
   ]
  },
  {
   "cell_type": "code",
   "execution_count": 12,
   "id": "882f1655-c933-4a57-b415-34eb2724ce06",
   "metadata": {
    "tags": []
   },
   "outputs": [
    {
     "name": "stdout",
     "output_type": "stream",
     "text": [
      "number of negative items = 3\n"
     ]
    }
   ],
   "source": [
    "# set up test data\n",
    "data = [1, -5, 8, 2, -3, 1, 5, -2]\n",
    "\n",
    "# algorithmic pattern\n",
    "counter = 0 # initialize counter\n",
    "for x in data:\n",
    "    if x < 0: # check if condition is met\n",
    "        counter += 1 # update counter if so\n",
    "\n",
    "# print out the result\n",
    "print(\"number of negative items =\", counter)"
   ]
  },
  {
   "cell_type": "markdown",
   "id": "4cb39fbe-73d9-43dc-af8c-c267e57db1f7",
   "metadata": {},
   "source": [
    "**Shortcut**: In numpy, counting can be done by combine array slicing with `np.count_nonzero()`"
   ]
  },
  {
   "cell_type": "code",
   "execution_count": 13,
   "id": "71975919-821a-451e-8316-867e3d16ce8f",
   "metadata": {},
   "outputs": [
    {
     "data": {
      "text/plain": [
       "3"
      ]
     },
     "execution_count": 13,
     "metadata": {},
     "output_type": "execute_result"
    }
   ],
   "source": [
    "np.count_nonzero(np.array(data) < 0)"
   ]
  },
  {
   "cell_type": "markdown",
   "id": "4271f709-b193-4188-a0ec-f8ba18846c84",
   "metadata": {},
   "source": [
    "**Now you try:** Count how many animals in the list below start with either \"a\", \"b\", or \"c\"."
   ]
  },
  {
   "cell_type": "code",
   "execution_count": 14,
   "id": "f81991db-35e1-4cba-85b0-aa52611ee723",
   "metadata": {
    "tags": []
   },
   "outputs": [],
   "source": [
    "# set up a list of animal names\n",
    "animal_names = [\n",
    "    \"antelope\", \"bear\", \"cat\", \"alligator\", \"bison\", \n",
    "    \"cougar\", \"zebra\", \"dolphin\", \"elephant\", \"giraffe\", \n",
    "    \"bat\", \"chimpanzee\", \"armadillo\", \"beetle\", \"crab\", \n",
    "    \"kangaroo\", \"boa\", \"octopus\", \"cheetah\", \"camel\", \n",
    "    \"otter\", \"fox\", \"koala\", \"coyote\", \"buffalo\", \n",
    "    \"alpaca\", \"anaconda\", \"badger\", \"crow\", \"donkey\"\n",
    "]\n",
    "\n",
    "# algorithmic pattern\n",
    "\n",
    "# print out the result"
   ]
  },
  {
   "cell_type": "code",
   "execution_count": 15,
   "id": "d9b99cde-03e7-4582-a550-2974885a8adf",
   "metadata": {},
   "outputs": [
    {
     "name": "stdout",
     "output_type": "stream",
     "text": [
      "Number of animals that start with 'a', 'b', or 'c' = 20\n"
     ]
    }
   ],
   "source": [
    "# possible solution\n",
    "count = 0\n",
    "for name in animal_names:\n",
    "    if name[0] == \"a\" or name[0] == \"b\" or name[0] == \"c\":\n",
    "        count += 1\n",
    "\n",
    "print(\"Number of animals that start with 'a', 'b', or 'c' =\", count)"
   ]
  },
  {
   "cell_type": "markdown",
   "id": "24b19da7-e414-434c-8ac0-881432ea16d9",
   "metadata": {},
   "source": [
    "## 4. Accumulation"
   ]
  },
  {
   "cell_type": "markdown",
   "id": "4ebcbdb9-c6b4-484a-ba5b-fbb3d6b1e1c9",
   "metadata": {},
   "source": [
    "**Conceptual task**: compute a quantity whose value depends on all elements of the collection equally"
   ]
  },
  {
   "cell_type": "markdown",
   "id": "70f60abc-692c-497c-a9ba-d39c9ec667de",
   "metadata": {},
   "source": [
    "**Implementation**: Initialize a variable to store an accumulated value. Update the value for every item in the loop."
   ]
  },
  {
   "cell_type": "markdown",
   "id": "316f3a6b-153f-4418-9103-862f54a8a55d",
   "metadata": {},
   "source": [
    "**Example**: Find the sum of integers in a list."
   ]
  },
  {
   "cell_type": "code",
   "execution_count": 16,
   "id": "4db7f2d2-a660-4d34-8e1e-8eda3f7c587e",
   "metadata": {
    "tags": []
   },
   "outputs": [
    {
     "name": "stdout",
     "output_type": "stream",
     "text": [
      "total value = 26\n"
     ]
    }
   ],
   "source": [
    "# set up test data\n",
    "data = [3, 1, 2, 5, 6, 9, 0]\n",
    "\n",
    "# algorithmic pattern\n",
    "total = 0 # initialize store\n",
    "for x in data:\n",
    "    total += x # update store\n",
    "\n",
    "# print out the result\n",
    "print(\"total value =\", total)"
   ]
  },
  {
   "cell_type": "markdown",
   "id": "09ef98b0-9d86-4df2-ba5a-d4fc35862e43",
   "metadata": {},
   "source": [
    "**Shortcut #1**: For the case of sum, you can use the python built-in function `sum()`"
   ]
  },
  {
   "cell_type": "code",
   "execution_count": 17,
   "id": "63a5531a-8edb-4926-bad7-20e16556d88e",
   "metadata": {},
   "outputs": [
    {
     "data": {
      "text/plain": [
       "26"
      ]
     },
     "execution_count": 17,
     "metadata": {},
     "output_type": "execute_result"
    }
   ],
   "source": [
    "sum(data)"
   ]
  },
  {
   "cell_type": "markdown",
   "id": "7315cf73-86d2-4501-b94d-746650775008",
   "metadata": {},
   "source": [
    "**Shortcut #2**: numpy has functions that implement the most familiar accumulation cases (e.g., `np.sum()`, `np.mean()`, `np.prod()`)"
   ]
  },
  {
   "cell_type": "code",
   "execution_count": 18,
   "id": "781104f4-0462-4809-b74a-35142014c100",
   "metadata": {},
   "outputs": [
    {
     "data": {
      "text/plain": [
       "np.int64(26)"
      ]
     },
     "execution_count": 18,
     "metadata": {},
     "output_type": "execute_result"
    }
   ],
   "source": [
    "np.sum(data)"
   ]
  },
  {
   "cell_type": "markdown",
   "id": "bc983f90-e200-4b44-b12f-f7da1fe819d1",
   "metadata": {},
   "source": [
    "**Now you try:** The following records show a list of people and their years of experience in data science. What is their total (sum) years of experience?"
   ]
  },
  {
   "cell_type": "code",
   "execution_count": 19,
   "id": "3b393e1a-aeed-490b-821d-b2266ec4df2a",
   "metadata": {
    "tags": []
   },
   "outputs": [],
   "source": [
    "people = [\n",
    "    [\"Asher\", 2],\n",
    "    [\"Ellison\", 8],\n",
    "    [\"Luca\", 5],\n",
    "    [\"Teo\", 3]\n",
    "]\n",
    "\n",
    "# algorithmic pattern\n",
    "\n",
    "# print out the result"
   ]
  },
  {
   "cell_type": "code",
   "execution_count": 20,
   "id": "a9c7be77-cb1f-4026-b624-2201ebc4d370",
   "metadata": {},
   "outputs": [
    {
     "name": "stdout",
     "output_type": "stream",
     "text": [
      "total years of experience = 18\n"
     ]
    }
   ],
   "source": [
    "# possible solution\n",
    "total = 0\n",
    "for person in people:\n",
    "    total += person[1]\n",
    "\n",
    "print(\"total years of experience =\", total)"
   ]
  },
  {
   "cell_type": "markdown",
   "id": "a8cdb3c1-efe5-4838-a60c-f39e3e2341b5",
   "metadata": {},
   "source": [
    "## 5. Max/min value"
   ]
  },
  {
   "cell_type": "markdown",
   "id": "fa8f9ec9-7650-46ed-a044-a07296a13eea",
   "metadata": {},
   "source": [
    "**Conceptual task**: Find the most extreme element from a collection"
   ]
  },
  {
   "cell_type": "markdown",
   "id": "f3ccbe82-1b33-4984-b682-f014c4a608d6",
   "metadata": {},
   "source": [
    "**Implementation**: Initialize a variable to store the max/min value. Update it each time a larger/smaller value is found."
   ]
  },
  {
   "cell_type": "markdown",
   "id": "11f1c5fa-2aad-4506-9075-d350b07e1530",
   "metadata": {},
   "source": [
    "**Example**: Find the maximum values from a list of **positive** integers."
   ]
  },
  {
   "cell_type": "code",
   "execution_count": 21,
   "id": "ffb123fd-4f56-4dcf-bb28-013cb2c9f781",
   "metadata": {
    "tags": []
   },
   "outputs": [
    {
     "name": "stdout",
     "output_type": "stream",
     "text": [
      "maximum value = 9\n"
     ]
    }
   ],
   "source": [
    "# set up test data\n",
    "data = [3, 1, 2, 5, 6, 9, 7]\n",
    "\n",
    "# algorithmic pattern\n",
    "max_val = 0 # start with a non-candidate\n",
    "for x in data:\n",
    "    # check if new element more extreme than candidate\n",
    "    if x > max_val: \n",
    "        # if so, take the element as new candidate\n",
    "        max_val = x \n",
    "\n",
    "# print out the result\n",
    "print(\"maximum value =\", max_val)"
   ]
  },
  {
   "cell_type": "markdown",
   "id": "81af6873-93bd-465a-a25d-6692d3728c9e",
   "metadata": {},
   "source": [
    "**Shortcut #1**: For numerical values, python has built-in function `max()` and `min()`"
   ]
  },
  {
   "cell_type": "code",
   "execution_count": 22,
   "id": "2dcb4354-f84e-4ea4-abcf-7fc36d334e38",
   "metadata": {},
   "outputs": [
    {
     "data": {
      "text/plain": [
       "9"
      ]
     },
     "execution_count": 22,
     "metadata": {},
     "output_type": "execute_result"
    }
   ],
   "source": [
    "max(data)"
   ]
  },
  {
   "cell_type": "markdown",
   "id": "0a0364dd-b20c-410a-b029-4344dad883a4",
   "metadata": {},
   "source": [
    "**Shortcut #2:** Numpy also comes with `np.max()` and `np.min()`"
   ]
  },
  {
   "cell_type": "code",
   "execution_count": 23,
   "id": "af3dea1d-66bc-4448-a84c-e90c6403ec9a",
   "metadata": {},
   "outputs": [
    {
     "data": {
      "text/plain": [
       "np.int64(9)"
      ]
     },
     "execution_count": 23,
     "metadata": {},
     "output_type": "execute_result"
    }
   ],
   "source": [
    "np.max(data)"
   ]
  },
  {
   "cell_type": "markdown",
   "id": "1fcae9d8-850f-4be3-b266-1f4daad4c91c",
   "metadata": {},
   "source": [
    "**Now you try:** Given the following list of (x, y) coordinates of points, find the point that is closest to the origin"
   ]
  },
  {
   "cell_type": "code",
   "execution_count": 24,
   "id": "3af81dbe-040b-4e8d-b7cc-a5b83de16884",
   "metadata": {
    "tags": []
   },
   "outputs": [],
   "source": [
    "# set up a list of coordinates\n",
    "coords = [\n",
    "    [7, 11],\n",
    "    [4, 8],\n",
    "    [-2, 9],\n",
    "    [3, -3],\n",
    "    [0, 5]\n",
    "]\n",
    "\n",
    "# algorithmic pattern\n",
    "\n",
    "# print out the result"
   ]
  },
  {
   "cell_type": "code",
   "execution_count": 25,
   "id": "8ee58605-e4d2-4fb6-9286-0133e3d9003c",
   "metadata": {},
   "outputs": [
    {
     "name": "stdout",
     "output_type": "stream",
     "text": [
      "The cloest point to origin is:  [3, -3]\n"
     ]
    }
   ],
   "source": [
    "# possible solution #1 (for loop)\n",
    "closest = None\n",
    "distance = float(\"inf\")\n",
    "\n",
    "for val in coords:\n",
    "    d = (val[0]**2 + val[1]**2) ** 0.5\n",
    "    if d < distance:\n",
    "        closest = val\n",
    "        distance = d\n",
    "\n",
    "print(\"The cloest point to origin is: \", closest)"
   ]
  },
  {
   "cell_type": "code",
   "execution_count": 26,
   "id": "5d026aeb-6b4d-42d5-9c72-3a9998ce12bf",
   "metadata": {},
   "outputs": [
    {
     "name": "stdout",
     "output_type": "stream",
     "text": [
      "The cloest point to origin is:  [3, -3]\n"
     ]
    }
   ],
   "source": [
    "# possible solution #2 (numpy)\n",
    "coords_np = np.array(coords)\n",
    "distances_np = np.sqrt(np.sum(coords_np, axis=1))\n",
    "min_index = np.argmin(distances_np)\n",
    "closest = coords[min_index]\n",
    "\n",
    "print(\"The cloest point to origin is: \", closest)"
   ]
  },
  {
   "cell_type": "markdown",
   "id": "56ed1471-b2da-419f-8ca5-a7fd3862c559",
   "metadata": {},
   "source": [
    "## 6. Linear search"
   ]
  },
  {
   "cell_type": "markdown",
   "id": "3d451f52-26f9-4c5c-a16e-c5c12d1e8bea",
   "metadata": {},
   "source": [
    "**Conceptual task**: Find an item in a collection that satisfy a certain condition"
   ]
  },
  {
   "cell_type": "markdown",
   "id": "3c651cad-dd48-413a-8d06-523addbb2628",
   "metadata": {},
   "source": [
    "**Implementation**: Assume that an item satisfying the condition does not exist, then keep checking the items until a satisfying item is found."
   ]
  },
  {
   "cell_type": "markdown",
   "id": "58a360a8-ea4a-4401-ab3b-404afd87cb94",
   "metadata": {},
   "source": [
    "**Exmaple:** Find a string that is capitalized"
   ]
  },
  {
   "cell_type": "code",
   "execution_count": 27,
   "id": "022333a2-273b-49de-9514-3ce4f90f9312",
   "metadata": {
    "tags": []
   },
   "outputs": [
    {
     "name": "stdout",
     "output_type": "stream",
     "text": [
      "A capitalized string is: 'Example'\n"
     ]
    }
   ],
   "source": [
    "# setup test data\n",
    "data = [\"this\", \"IS\", \"an\", \"Example\"]\n",
    "\n",
    "# algorithmic pattern\n",
    "desired = None # start with a non-item\n",
    "for x in data:\n",
    "    if x.capitalize() == x: # check if condition is met\n",
    "        desired = x # if so assign it to output variable\n",
    "        break # and skip the remaining items\n",
    "\n",
    "# print out the result\n",
    "if x is None:\n",
    "    print(\"item not found\")\n",
    "else:\n",
    "    print(\"A capitalized string is: '\" + desired + \"'\")"
   ]
  },
  {
   "cell_type": "markdown",
   "id": "66996d99-c3cd-40e1-ace8-eee1e3c05c0d",
   "metadata": {},
   "source": [
    "**Now you try:** The list below represents a list of products. Each product is represented as a list containing the product name (a string), its price (a float), and the amount of the product in stock (an integer).\n",
    "\n",
    "Find the first product that has a **price greater than \\$50** and is **in stock** (quantity greater than 0). If no product meets the criteria, print out a message saying that \"No items worth more than \\$50 are in stock\"."
   ]
  },
  {
   "cell_type": "code",
   "execution_count": 28,
   "id": "208678e8-eb7a-45d3-b3d2-586c3934a89c",
   "metadata": {
    "tags": []
   },
   "outputs": [],
   "source": [
    "# set up test data\n",
    "inventory = [\n",
    "    [\"Mouse\", 25.50, 20],\n",
    "    [\"Keyboard\", 45.00, 0],\n",
    "    [\"Monitor\", 150.00, 10],\n",
    "    [\"Laptop\", 999.99, 5],\n",
    "    [\"Headphones\", 70.00, 0]\n",
    "]\n",
    "\n",
    "# algorithmic pattern\n",
    "\n",
    "# print out the result"
   ]
  },
  {
   "cell_type": "code",
   "execution_count": 29,
   "id": "82aa9065-8638-48aa-9dca-d56507c9387a",
   "metadata": {},
   "outputs": [
    {
     "name": "stdout",
     "output_type": "stream",
     "text": [
      "First item in inventory in stock and worth > $50: ['Monitor', 150.0, 10]\n"
     ]
    }
   ],
   "source": [
    "# possible solution\n",
    "good_item = None\n",
    "for item in inventory:\n",
    "    if item[1] > 50 and item[2] > 0:\n",
    "        good_item = item\n",
    "        break\n",
    "\n",
    "if good_item is None:\n",
    "    print(\"No items worth more than $50 are in stock\")\n",
    "else:\n",
    "    print(\"First item in inventory in stock and worth > $50:\", good_item)"
   ]
  },
  {
   "cell_type": "markdown",
   "id": "08c7f265-c9c6-401a-855e-82b2edecd105",
   "metadata": {},
   "source": [
    "# Nested loops"
   ]
  },
  {
   "cell_type": "markdown",
   "id": "8553f447-1277-4c91-bc9f-fc28745c1155",
   "metadata": {
    "tags": []
   },
   "source": [
    "**Example:** print out all the possible ways to pick a first item from [1, 2, 3] and a second item from [a, b, c]"
   ]
  },
  {
   "cell_type": "code",
   "execution_count": 30,
   "id": "8ff698bf-2bb1-4523-926f-7a298075ed84",
   "metadata": {
    "tags": []
   },
   "outputs": [
    {
     "name": "stdout",
     "output_type": "stream",
     "text": [
      "1 a\n",
      "1 b\n",
      "1 c\n",
      "2 a\n",
      "2 b\n",
      "2 c\n",
      "3 a\n",
      "3 b\n",
      "3 c\n"
     ]
    }
   ],
   "source": [
    "data1 = [1, 2, 3]\n",
    "data2 = ['a', 'b', 'c']\n",
    "\n",
    "for id1 in data1: # run through 1 to 3\n",
    "    for id2 in data2: # run through a to c\n",
    "        print(id1, id2) # form pairs"
   ]
  },
  {
   "cell_type": "markdown",
   "id": "25db10fb-1f74-4786-b765-3aaf903b0531",
   "metadata": {},
   "source": [
    "**Now you try**: print out the results of multiplying $a$ with $b$, where $a$ ranges from 1 to 7 and $b$ ranges from 1 to 5"
   ]
  },
  {
   "cell_type": "code",
   "execution_count": 31,
   "id": "73d4a653-95ce-4a2f-8687-a469c7918b45",
   "metadata": {
    "tags": []
   },
   "outputs": [],
   "source": [
    "# your code here"
   ]
  },
  {
   "cell_type": "code",
   "execution_count": 32,
   "id": "7819c8b9-dc3b-4b92-9d7b-c905c0f97add",
   "metadata": {},
   "outputs": [
    {
     "name": "stdout",
     "output_type": "stream",
     "text": [
      "1 times 1 is 1\n",
      "1 times 2 is 2\n",
      "1 times 3 is 3\n",
      "1 times 4 is 4\n",
      "1 times 5 is 5\n",
      "2 times 1 is 2\n",
      "2 times 2 is 4\n",
      "2 times 3 is 6\n",
      "2 times 4 is 8\n",
      "2 times 5 is 10\n",
      "3 times 1 is 3\n",
      "3 times 2 is 6\n",
      "3 times 3 is 9\n",
      "3 times 4 is 12\n",
      "3 times 5 is 15\n",
      "4 times 1 is 4\n",
      "4 times 2 is 8\n",
      "4 times 3 is 12\n",
      "4 times 4 is 16\n",
      "4 times 5 is 20\n",
      "5 times 1 is 5\n",
      "5 times 2 is 10\n",
      "5 times 3 is 15\n",
      "5 times 4 is 20\n",
      "5 times 5 is 25\n",
      "6 times 1 is 6\n",
      "6 times 2 is 12\n",
      "6 times 3 is 18\n",
      "6 times 4 is 24\n",
      "6 times 5 is 30\n",
      "7 times 1 is 7\n",
      "7 times 2 is 14\n",
      "7 times 3 is 21\n",
      "7 times 4 is 28\n",
      "7 times 5 is 35\n"
     ]
    }
   ],
   "source": [
    "# possible solution\n",
    "for a in range(1, 8):\n",
    "    for b in range(1, 6):\n",
    "        c = a * b\n",
    "        print(a, \"times\", b, \"is\", c)"
   ]
  },
  {
   "cell_type": "code",
   "execution_count": null,
   "id": "61d7d787-a429-4cb7-81fb-7727583411b6",
   "metadata": {},
   "outputs": [],
   "source": []
  }
 ],
 "metadata": {
  "kernelspec": {
   "display_name": "Python 3 (ipykernel)",
   "language": "python",
   "name": "python3"
  },
  "language_info": {
   "codemirror_mode": {
    "name": "ipython",
    "version": 3
   },
   "file_extension": ".py",
   "mimetype": "text/x-python",
   "name": "python",
   "nbconvert_exporter": "python",
   "pygments_lexer": "ipython3",
   "version": "3.12.5"
  }
 },
 "nbformat": 4,
 "nbformat_minor": 5
}
